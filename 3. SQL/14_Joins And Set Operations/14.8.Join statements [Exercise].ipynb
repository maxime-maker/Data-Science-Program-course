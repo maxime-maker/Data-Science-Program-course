{
 "cells": [
  {
   "cell_type": "markdown",
   "id": "bf17eebd",
   "metadata": {},
   "source": [
    "<div align=\"right\" style=\" font-size: 80%; text-align: center; margin: 0 auto\">\n",
    "<img src=\"https://raw.githubusercontent.com/Explore-AI/Pictures/master/ExploreAI_logos/Logo blue_dark.png\"  style=\"width:25px\" align=\"right\";/>\n",
    "</div>"
   ]
  },
  {
   "cell_type": "markdown",
   "id": "f662d169",
   "metadata": {},
   "source": [
    "# Join statements\n",
    "© ExploreAI Academy"
   ]
  },
  {
   "cell_type": "markdown",
   "id": "26af890c",
   "metadata": {},
   "source": [
    "In this exercise,  we will explore different SQL `JOIN` statements in order to cross-examine data contained in multiple tables in a dataset.\n",
    "\n",
    "\n"
   ]
  },
  {
   "cell_type": "markdown",
   "id": "3259ef42",
   "metadata": {},
   "source": [
    "> ⚠️ In this exercise, we will query a sample SQLite database file called Chinook to gain some insight into the data. Ensure that you have downloaded the database file, `chinook.db`."
   ]
  },
  {
   "cell_type": "markdown",
   "id": "2d230d14",
   "metadata": {
    "tags": []
   },
   "source": [
    "## Learning objectives\n",
    "\n",
    "In this train, we will learn how to:\n",
    "- Join multiple tables.\n",
    "- Find common information between tables.\n",
    "- Use a `LEFT JOIN` to check for missing information.\n",
    "- Use `CROSS JOIN` to find all the possible combinations of required table rows."
   ]
  },
  {
   "cell_type": "markdown",
   "id": "5a0b7683",
   "metadata": {
    "tags": []
   },
   "source": [
    "First, let's load our sample database:\n"
   ]
  },
  {
   "cell_type": "code",
   "execution_count": null,
   "id": "0f34ea72",
   "metadata": {},
   "outputs": [],
   "source": [
    "# load and activate the SQL extension to allow us to execute SQL in a Jupyter notebook\n",
    "%load_ext sql\n",
    "\n",
    "# Load the Chinook database stored in your local machine. \n",
    "# Make sure the file is saved in the same folder as this notebook.\n",
    "%sql sqlite:///chinook.db"
   ]
  },
  {
   "cell_type": "code",
   "execution_count": 1,
   "id": "8226e2db",
   "metadata": {},
   "outputs": [],
   "source": [
    "%load_ext sql"
   ]
  },
  {
   "cell_type": "code",
   "execution_count": 2,
   "id": "d7792c27",
   "metadata": {},
   "outputs": [
    {
     "data": {
      "text/plain": [
       "'Connected: @chinook.db'"
      ]
     },
     "execution_count": 2,
     "metadata": {},
     "output_type": "execute_result"
    }
   ],
   "source": [
    "%sql sqlite:///chinook.db"
   ]
  },
  {
   "cell_type": "markdown",
   "id": "6643a12f",
   "metadata": {},
   "source": [
    "<div align=\"center\" style=\" font-size: 80%; text-align: center; margin: 0 auto\">\n",
    "<img src=\"https://raw.githubusercontent.com/Explore-AI/Pictures/master/The%20chinook%20database%20ERD.jpeg\"/>\n",
    "<br>\n",
    "<br>\n",
    "    <em>Figure 1: The Chinook database ERD</em>\n",
    "</div>"
   ]
  },
  {
   "cell_type": "markdown",
   "id": "920e89d2",
   "metadata": {
    "tags": []
   },
   "source": [
    "## Overview\n",
    "Run the necessary queries that will provide us with the following information. Compare your queries with the solutions at the end of this notebook.\n"
   ]
  },
  {
   "cell_type": "markdown",
   "id": "0fab2e5c",
   "metadata": {},
   "source": [
    "### Exercise 1\n",
    "\n",
    "Sometimes artists add a title track to their albums. This is a track that has the same title as the album. Write a query that returns albums that have a title track.\n",
    "Return rows in the AlbumId column from the albums table, Title from the albums table, and the Name from the tracks table, where the album table Title column matches the tracks table Name column."
   ]
  },
  {
   "cell_type": "code",
   "execution_count": null,
   "id": "0ab2cac7",
   "metadata": {},
   "outputs": [],
   "source": [
    "# Add your code here"
   ]
  },
  {
   "cell_type": "markdown",
   "id": "86802726",
   "metadata": {},
   "source": [
    "### Exercise 2\n",
    "\n",
    "Suppose that in the previous exercise, we were additionally interested in knowing who the artists of the listed albums are. Write a query that can achieve this."
   ]
  },
  {
   "cell_type": "code",
   "execution_count": null,
   "id": "91f3421f",
   "metadata": {},
   "outputs": [],
   "source": [
    "# Add your code here"
   ]
  },
  {
   "cell_type": "markdown",
   "id": "f0fade51",
   "metadata": {},
   "source": [
    "### Exercise 3\n",
    "\n",
    "One use case for a `LEFT JOIN` is that it can be used to check for missing information. In this case, try to find out what media items have not been bought yet (i.e. are not an item in any invoice)."
   ]
  },
  {
   "cell_type": "code",
   "execution_count": null,
   "id": "748f4263",
   "metadata": {},
   "outputs": [],
   "source": [
    "# Add your code here"
   ]
  },
  {
   "cell_type": "markdown",
   "id": "f28aef00",
   "metadata": {},
   "source": [
    "### Exercise 4\n",
    "\n",
    "In the results, the tracks that have a value of `None` (i.e. `NULL`) for `InvoiceId` are the ones that have not been purchased yet. Add a `WHERE` clause to only focus on these 'unpopular' tracks."
   ]
  },
  {
   "cell_type": "code",
   "execution_count": null,
   "id": "f4621a53",
   "metadata": {},
   "outputs": [],
   "source": [
    "# Add your code here"
   ]
  },
  {
   "cell_type": "markdown",
   "id": "d151cbb4",
   "metadata": {},
   "source": [
    "### Exercise 5\n",
    "\n",
    "Let's suppose that, as part of a new business strategy, Chinook wants to develop new product categories for their media items that are based on genre and media type. Write a query that will list all possible product categories (i.e. all possible genre and media type combinations)."
   ]
  },
  {
   "cell_type": "code",
   "execution_count": null,
   "id": "1e003247",
   "metadata": {},
   "outputs": [],
   "source": [
    "# Add your code here"
   ]
  },
  {
   "cell_type": "markdown",
   "id": "b3c88335",
   "metadata": {
    "tags": []
   },
   "source": [
    "## Solutions"
   ]
  },
  {
   "cell_type": "markdown",
   "id": "a7692a24",
   "metadata": {},
   "source": [
    "### Exercise 1"
   ]
  },
  {
   "cell_type": "code",
   "execution_count": 3,
   "id": "36d0adab",
   "metadata": {},
   "outputs": [
    {
     "name": "stdout",
     "output_type": "stream",
     "text": [
      " * sqlite:///chinook.db\n",
      "(sqlite3.OperationalError) no such table: albums\n",
      "[SQL: SELECT \n",
      "    a.AlbumId, \n",
      "    a.Title AS \"Album Title\", \n",
      "    t.Name AS \"Track Name\"\n",
      "FROM \n",
      "    albums a\n",
      "INNER JOIN \n",
      "    tracks AS t\n",
      "    ON a.Title = t.Name\n",
      "LIMIT 10;  -- Remove this line to see the full query output]\n",
      "(Background on this error at: http://sqlalche.me/e/e3q8)\n"
     ]
    }
   ],
   "source": [
    "%%sql\n",
    "\n",
    "SELECT \n",
    "    a.AlbumId, \n",
    "    a.Title AS \"Album Title\", \n",
    "    t.Name AS \"Track Name\"\n",
    "FROM \n",
    "    albums a\n",
    "INNER JOIN \n",
    "    tracks AS t\n",
    "    ON a.Title = t.Name\n",
    "LIMIT 10;  -- Remove this line to see the full query output"
   ]
  },
  {
   "cell_type": "markdown",
   "id": "a5084b12",
   "metadata": {
    "tags": []
   },
   "source": [
    "### Exercise 2"
   ]
  },
  {
   "cell_type": "code",
   "execution_count": null,
   "id": "c968d875",
   "metadata": {},
   "outputs": [],
   "source": [
    "%%sql\n",
    "\n",
    "SELECT \n",
    "    a.AlbumId, \n",
    "    a.Title AS \"Album Title\", \n",
    "    t.Name AS \"Track Name\", \n",
    "    ar.Name AS \"Artist Name\"\n",
    "FROM \n",
    "    albums AS a\n",
    "INNER JOIN \n",
    "    tracks AS t\n",
    "    ON a.Title = t.Name\n",
    "INNER JOIN \n",
    "    artists AS ar\n",
    "    ON ar.ArtistId = a.ArtistId\n",
    "LIMIT 10;  -- Remove this line to see the full query output"
   ]
  },
  {
   "cell_type": "markdown",
   "id": "23325141",
   "metadata": {},
   "source": [
    "Return rows in the `AlbumId` from the `albums` table, `Title` from the `albums` table, the `Name` from the `tracks` table, and the `Name` from the `artists` table, where the `albums` table `Title` column matches the `tracks` table `Name` column, and the `artists` table `Name` column where the `artists` table `ArtistId` is equal to the `albums` table `ArtistId`."
   ]
  },
  {
   "cell_type": "markdown",
   "id": "294d8eef",
   "metadata": {},
   "source": [
    "### Exercise 3"
   ]
  },
  {
   "cell_type": "code",
   "execution_count": null,
   "id": "03071e34",
   "metadata": {},
   "outputs": [],
   "source": [
    "%%sql\n",
    "\n",
    "SELECT \n",
    "    t.TrackId, \n",
    "    ii.InvoiceId\n",
    "FROM \n",
    "    tracks t\n",
    "LEFT JOIN \n",
    "    invoice_items ii\n",
    "    ON t.TrackId = ii.TrackId\n",
    "LIMIT 10;  -- Remove this line to see the full query output"
   ]
  },
  {
   "cell_type": "markdown",
   "id": "eafe40b6",
   "metadata": {},
   "source": [
    "### Exercise 4"
   ]
  },
  {
   "cell_type": "code",
   "execution_count": null,
   "id": "1ffd2239",
   "metadata": {},
   "outputs": [],
   "source": [
    "%%sql\n",
    "\n",
    "SELECT \n",
    "    t.TrackId, \n",
    "    ii.InvoiceId\n",
    "FROM \n",
    "    tracks AS t\n",
    "LEFT JOIN \n",
    "    invoice_items AS ii\n",
    "    ON t.TrackId = ii.TrackId\n",
    "WHERE ii.InvoiceId IS NULL\n",
    "LIMIT 10;  -- Remove this line to see the full query output"
   ]
  },
  {
   "cell_type": "markdown",
   "id": "b0e27793",
   "metadata": {},
   "source": [
    "### Exercise 5"
   ]
  },
  {
   "cell_type": "code",
   "execution_count": null,
   "id": "b2cb2438",
   "metadata": {},
   "outputs": [],
   "source": [
    "%%sql\n",
    "\n",
    "SELECT \n",
    "    g.Name AS \"Genre\", \n",
    "    m.Name AS \"Media Type\"\n",
    "FROM \n",
    "    genres AS g\n",
    "CROSS JOIN \n",
    "    media_types AS m\n",
    "LIMIT 10;  -- Remove this line to see the full query output"
   ]
  }
 ],
 "metadata": {
  "kernelspec": {
   "display_name": "Python 3 (ipykernel)",
   "language": "python",
   "name": "python3"
  },
  "language_info": {
   "codemirror_mode": {
    "name": "ipython",
    "version": 3
   },
   "file_extension": ".py",
   "mimetype": "text/x-python",
   "name": "python",
   "nbconvert_exporter": "python",
   "pygments_lexer": "ipython3",
   "version": "3.11.5"
  }
 },
 "nbformat": 4,
 "nbformat_minor": 5
}
