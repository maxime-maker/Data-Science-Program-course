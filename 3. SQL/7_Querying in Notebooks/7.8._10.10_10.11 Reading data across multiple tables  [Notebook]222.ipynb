{
 "cells": [
  {
   "cell_type": "markdown",
   "id": "51b1254d",
   "metadata": {},
   "source": [
    "<div align=\"right\" style=\" font-size: 80%; text-align: center; margin: 0 auto\">\n",
    "<img src=\"https://raw.githubusercontent.com/Explore-AI/Pictures/master/ExploreAI_logos/Logo blue_dark.png\"  style=\"width:25px\" align=\"right\";/>\n",
    "</div>"
   ]
  },
  {
   "cell_type": "markdown",
   "id": "f662d169",
   "metadata": {},
   "source": [
    "# Reading data across multiple tables\n",
    "© ExploreAI Academy"
   ]
  },
  {
   "cell_type": "markdown",
   "id": "26af890c",
   "metadata": {},
   "source": [
    "In this exercise, we will learn how to read data from a sample database for a digital media company called Chinook that has tables for artists, albums, media tracks, invoices, and customers. "
   ]
  },
  {
   "cell_type": "markdown",
   "id": "2d230d14",
   "metadata": {},
   "source": [
    "## Learning objectives\n",
    "\n",
    "By the end of this train, you should be able to:\n",
    "- Read data from a single column in a single table.\n",
    "- Read data from multiple columns in a single table.\n",
    "- Read data from multiple columns in multiple tables."
   ]
  },
  {
   "cell_type": "markdown",
   "id": "7fd5e3b8",
   "metadata": {},
   "source": [
    "First, let's load our sample database:"
   ]
  },
  {
   "cell_type": "code",
   "execution_count": 14,
   "id": "2d0d820e",
   "metadata": {},
   "outputs": [
    {
     "name": "stdout",
     "output_type": "stream",
     "text": [
      "The sql extension is already loaded. To reload it, use:\n",
      "  %reload_ext sql\n"
     ]
    }
   ],
   "source": [
    "# Load and activate the SQL extension to allow us to execute SQL in a Jupyter notebook.\n",
    "%load_ext sql\n"
   ]
  },
  {
   "cell_type": "code",
   "execution_count": 15,
   "id": "599e3c6c",
   "metadata": {},
   "outputs": [
    {
     "data": {
      "text/plain": [
       "'Connected: @chinook.db'"
      ]
     },
     "execution_count": 15,
     "metadata": {},
     "output_type": "execute_result"
    }
   ],
   "source": [
    "# Load the Chinook database stored in your local machine. \n",
    "# Make sure the file is saved in the same folder as this notebook.\n",
    "%sql sqlite:///chinook.db"
   ]
  },
  {
   "cell_type": "code",
   "execution_count": 20,
   "id": "a6bcdce6",
   "metadata": {},
   "outputs": [
    {
     "data": {
      "text/plain": [
       "'Connected: @TMDB.db'"
      ]
     },
     "execution_count": 20,
     "metadata": {},
     "output_type": "execute_result"
    }
   ],
   "source": [
    "%sql sqlite:///TMDB.db"
   ]
  },
  {
   "cell_type": "code",
   "execution_count": 21,
   "id": "9626dd37",
   "metadata": {},
   "outputs": [
    {
     "name": "stdout",
     "output_type": "stream",
     "text": [
      " * sqlite:///TMDB.db\n",
      "   sqlite:///chinook.db\n",
      "(sqlite3.OperationalError) no such table: movies\n",
      "[SQL: SELECT *\n",
      "FROM movies;]\n",
      "(Background on this error at: https://sqlalche.me/e/14/e3q8)\n"
     ]
    }
   ],
   "source": [
    "%%sql\n",
    "\n",
    "SELECT *\n",
    "FROM movies;"
   ]
  },
  {
   "cell_type": "code",
   "execution_count": 19,
   "id": "cda2c1cc",
   "metadata": {},
   "outputs": [
    {
     "name": "stdout",
     "output_type": "stream",
     "text": [
      " * sqlite:///TMDB.db\n",
      "   sqlite:///chinook.db\n",
      "(sqlite3.OperationalError) near \"show\": syntax error\n",
      "[SQL: show all]\n",
      "(Background on this error at: https://sqlalche.me/e/14/e3q8)\n"
     ]
    }
   ],
   "source": [
    "%%sql\n",
    "\n",
    "show all "
   ]
  },
  {
   "cell_type": "markdown",
   "id": "06af8b46",
   "metadata": {},
   "source": [
    "Here is a [view](https://www.lucidchart.com/pages/er-diagrams) of all of our tables in the database:"
   ]
  },
  {
   "cell_type": "markdown",
   "id": "e3d3c848",
   "metadata": {},
   "source": [
    "<div align=\"center\" style=\" font-size: 80%; text-align: center; margin: 0 auto\">\n",
    "<img src=\"https://github.com/Explore-AI/Pictures/blob/master/sqlite-sample-database-color.jpg?raw=true\"  style=\"width:500px\";/>\n",
    "<br>\n",
    "<br>\n",
    "    <em>Figure 1: Chinook ERD</em>\n",
    "</div>\n"
   ]
  },
  {
   "cell_type": "markdown",
   "id": "653e9dbb",
   "metadata": {},
   "source": [
    "[Image source](https://www.sqlitetutorial.net/sqlite-sample-database/)"
   ]
  },
  {
   "cell_type": "markdown",
   "id": "920e89d2",
   "metadata": {},
   "source": [
    "## Reading data from a database\n",
    "\n",
    "When reading data from a database like the Chinook database, we can read from a single column in a single table, multiple columns in a single table, or multiple columns in various tables within the database.\n",
    "\n",
    "Let's explore the differences between the above queries."
   ]
  },
  {
   "cell_type": "markdown",
   "id": "466e53c1",
   "metadata": {},
   "source": [
    "### 1. Reading data from a single column in a single table in the database.\n",
    "\n",
    "Let's write a query that returns the names of all Chinook digital media store customers.\n",
    "\n",
    "For this query, we would need to read data from the `FirstName` column in the `customers` table (see ER diagram above)."
   ]
  },
  {
   "cell_type": "code",
   "execution_count": 16,
   "id": "038f28ea",
   "metadata": {},
   "outputs": [
    {
     "name": "stdout",
     "output_type": "stream",
     "text": [
      "   sqlite:///TMDB.db\n",
      " * sqlite:///chinook.db\n",
      "Done.\n"
     ]
    },
    {
     "data": {
      "text/html": [
       "<table>\n",
       "    <thead>\n",
       "        <tr>\n",
       "            <th>FirstName</th>\n",
       "        </tr>\n",
       "    </thead>\n",
       "    <tbody>\n",
       "        <tr>\n",
       "            <td>Luís</td>\n",
       "        </tr>\n",
       "        <tr>\n",
       "            <td>Leonie</td>\n",
       "        </tr>\n",
       "        <tr>\n",
       "            <td>François</td>\n",
       "        </tr>\n",
       "        <tr>\n",
       "            <td>Bjørn</td>\n",
       "        </tr>\n",
       "        <tr>\n",
       "            <td>František</td>\n",
       "        </tr>\n",
       "        <tr>\n",
       "            <td>Helena</td>\n",
       "        </tr>\n",
       "        <tr>\n",
       "            <td>Astrid</td>\n",
       "        </tr>\n",
       "        <tr>\n",
       "            <td>Daan</td>\n",
       "        </tr>\n",
       "        <tr>\n",
       "            <td>Kara</td>\n",
       "        </tr>\n",
       "        <tr>\n",
       "            <td>Eduardo</td>\n",
       "        </tr>\n",
       "    </tbody>\n",
       "</table>"
      ],
      "text/plain": [
       "[('Luís',),\n",
       " ('Leonie',),\n",
       " ('François',),\n",
       " ('Bjørn',),\n",
       " ('František',),\n",
       " ('Helena',),\n",
       " ('Astrid',),\n",
       " ('Daan',),\n",
       " ('Kara',),\n",
       " ('Eduardo',)]"
      ]
     },
     "execution_count": 16,
     "metadata": {},
     "output_type": "execute_result"
    }
   ],
   "source": [
    "%%sql \n",
    "\n",
    "SELECT FirstName \n",
    "FROM customers\n",
    "LIMIT 10; -- Remove this line to see the full result."
   ]
  },
  {
   "cell_type": "markdown",
   "id": "a5084b12",
   "metadata": {},
   "source": [
    "### 2. Reading data from multiple columns in a single table in the database.\n",
    "Let's write a query to find out when each Chinook employee was hired. \n",
    "\n",
    "Looking at the ER diagram above, for this query, we would need to read data from the `FirstName`, `LastName`, and `HireDate` column(s) in the `employees` table.\n"
   ]
  },
  {
   "cell_type": "code",
   "execution_count": 4,
   "id": "c968d875",
   "metadata": {
    "scrolled": true
   },
   "outputs": [
    {
     "name": "stdout",
     "output_type": "stream",
     "text": [
      " * sqlite:///chinook.db\n",
      "Done.\n"
     ]
    },
    {
     "data": {
      "text/html": [
       "<table>\n",
       "    <thead>\n",
       "        <tr>\n",
       "            <th>FirstName</th>\n",
       "            <th>LastName</th>\n",
       "            <th>HireDate</th>\n",
       "        </tr>\n",
       "    </thead>\n",
       "    <tbody>\n",
       "        <tr>\n",
       "            <td>Andrew</td>\n",
       "            <td>Adams</td>\n",
       "            <td>2002-08-14 00:00:00</td>\n",
       "        </tr>\n",
       "        <tr>\n",
       "            <td>Nancy</td>\n",
       "            <td>Edwards</td>\n",
       "            <td>2002-05-01 00:00:00</td>\n",
       "        </tr>\n",
       "        <tr>\n",
       "            <td>Jane</td>\n",
       "            <td>Peacock</td>\n",
       "            <td>2002-04-01 00:00:00</td>\n",
       "        </tr>\n",
       "        <tr>\n",
       "            <td>Margaret</td>\n",
       "            <td>Park</td>\n",
       "            <td>2003-05-03 00:00:00</td>\n",
       "        </tr>\n",
       "        <tr>\n",
       "            <td>Steve</td>\n",
       "            <td>Johnson</td>\n",
       "            <td>2003-10-17 00:00:00</td>\n",
       "        </tr>\n",
       "        <tr>\n",
       "            <td>Michael</td>\n",
       "            <td>Mitchell</td>\n",
       "            <td>2003-10-17 00:00:00</td>\n",
       "        </tr>\n",
       "        <tr>\n",
       "            <td>Robert</td>\n",
       "            <td>King</td>\n",
       "            <td>2004-01-02 00:00:00</td>\n",
       "        </tr>\n",
       "        <tr>\n",
       "            <td>Laura</td>\n",
       "            <td>Callahan</td>\n",
       "            <td>2004-03-04 00:00:00</td>\n",
       "        </tr>\n",
       "    </tbody>\n",
       "</table>"
      ],
      "text/plain": [
       "[('Andrew', 'Adams', '2002-08-14 00:00:00'),\n",
       " ('Nancy', 'Edwards', '2002-05-01 00:00:00'),\n",
       " ('Jane', 'Peacock', '2002-04-01 00:00:00'),\n",
       " ('Margaret', 'Park', '2003-05-03 00:00:00'),\n",
       " ('Steve', 'Johnson', '2003-10-17 00:00:00'),\n",
       " ('Michael', 'Mitchell', '2003-10-17 00:00:00'),\n",
       " ('Robert', 'King', '2004-01-02 00:00:00'),\n",
       " ('Laura', 'Callahan', '2004-03-04 00:00:00')]"
      ]
     },
     "execution_count": 4,
     "metadata": {},
     "output_type": "execute_result"
    }
   ],
   "source": [
    "%%sql\n",
    "\n",
    "SELECT FirstName, LastName, HireDate\n",
    "FROM employees;"
   ]
  },
  {
   "cell_type": "markdown",
   "id": "2a52441f",
   "metadata": {},
   "source": [
    "In the above query, we have specified multiple columns by **separating each column name in the list with a comma**."
   ]
  },
  {
   "cell_type": "markdown",
   "id": "4ce1e7d7",
   "metadata": {},
   "source": [
    "### 3. Reading data from multiple columns in multiple tables in the database.\n",
    "\n",
    "Let's write a query that lists album titles and the corresponding artists.\n",
    "\n",
    "Based on the ER diagram, for this query, we would need to read data from the `Title` column in the `albums` table and the `Name` column in the `artists` table where the `Artistid` in the `artists` table is the same as the `Artistid` in the `albums` table."
   ]
  },
  {
   "cell_type": "code",
   "execution_count": 5,
   "id": "6f5614e2",
   "metadata": {},
   "outputs": [
    {
     "name": "stdout",
     "output_type": "stream",
     "text": [
      " * sqlite:///chinook.db\n",
      "Done.\n"
     ]
    },
    {
     "data": {
      "text/html": [
       "<table>\n",
       "    <thead>\n",
       "        <tr>\n",
       "            <th>Title</th>\n",
       "            <th>Name</th>\n",
       "        </tr>\n",
       "    </thead>\n",
       "    <tbody>\n",
       "        <tr>\n",
       "            <td>For Those About To Rock We Salute You</td>\n",
       "            <td>AC/DC</td>\n",
       "        </tr>\n",
       "        <tr>\n",
       "            <td>For Those About To Rock We Salute You</td>\n",
       "            <td>Accept</td>\n",
       "        </tr>\n",
       "        <tr>\n",
       "            <td>For Those About To Rock We Salute You</td>\n",
       "            <td>Aerosmith</td>\n",
       "        </tr>\n",
       "        <tr>\n",
       "            <td>For Those About To Rock We Salute You</td>\n",
       "            <td>Alanis Morissette</td>\n",
       "        </tr>\n",
       "        <tr>\n",
       "            <td>For Those About To Rock We Salute You</td>\n",
       "            <td>Alice In Chains</td>\n",
       "        </tr>\n",
       "        <tr>\n",
       "            <td>For Those About To Rock We Salute You</td>\n",
       "            <td>Antônio Carlos Jobim</td>\n",
       "        </tr>\n",
       "        <tr>\n",
       "            <td>For Those About To Rock We Salute You</td>\n",
       "            <td>Apocalyptica</td>\n",
       "        </tr>\n",
       "        <tr>\n",
       "            <td>For Those About To Rock We Salute You</td>\n",
       "            <td>Audioslave</td>\n",
       "        </tr>\n",
       "        <tr>\n",
       "            <td>For Those About To Rock We Salute You</td>\n",
       "            <td>BackBeat</td>\n",
       "        </tr>\n",
       "        <tr>\n",
       "            <td>For Those About To Rock We Salute You</td>\n",
       "            <td>Billy Cobham</td>\n",
       "        </tr>\n",
       "    </tbody>\n",
       "</table>"
      ],
      "text/plain": [
       "[('For Those About To Rock We Salute You', 'AC/DC'),\n",
       " ('For Those About To Rock We Salute You', 'Accept'),\n",
       " ('For Those About To Rock We Salute You', 'Aerosmith'),\n",
       " ('For Those About To Rock We Salute You', 'Alanis Morissette'),\n",
       " ('For Those About To Rock We Salute You', 'Alice In Chains'),\n",
       " ('For Those About To Rock We Salute You', 'Antônio Carlos Jobim'),\n",
       " ('For Those About To Rock We Salute You', 'Apocalyptica'),\n",
       " ('For Those About To Rock We Salute You', 'Audioslave'),\n",
       " ('For Those About To Rock We Salute You', 'BackBeat'),\n",
       " ('For Those About To Rock We Salute You', 'Billy Cobham')]"
      ]
     },
     "execution_count": 5,
     "metadata": {},
     "output_type": "execute_result"
    }
   ],
   "source": [
    "%%sql\n",
    "\n",
    "SELECT albums.Title, artists.Name\n",
    "FROM albums, artists\n",
    "LIMIT 10; -- Remove this line to see the full result "
   ]
  },
  {
   "cell_type": "markdown",
   "id": "683c46d6",
   "metadata": {},
   "source": [
    "In the above query, we used a dot convention to tell SQL which table each selected column belongs to. This method is particularly useful in cases where the specified tables have columns with the same name. For example, the `artists` table and the `albums` table both have an `ArtistId` field.\n",
    "\n",
    "However, the query above doesn't seem to have provided what we wanted. If we take a closer look and remove the `LIMIT` keyword, we  notice that each artist has written every album in the table (despite other artists having written the same album). \n",
    "\n",
    "This is because we need to align the records between the tables, making sure that the relevant records in one table correspond to the correct records in the second table. We can achieve this by using the `WHERE` clause to connect the tables using a common field between the two tables.\n",
    "\n",
    "The query would look like this:\n",
    "\n",
    "```SQL\n",
    "SELECT table1.field1, table2.field3 \n",
    "FROM table1, table2\n",
    "WHERE table1.field1_id = table2.field1_id;\n",
    "```\n",
    "\n",
    "Let's rewrite the above query, but this time using the `WHERE` clause to align the records **where the `Artistid` in the `artists` table is the same as the `Artistid` in the `albums` table**.\n"
   ]
  },
  {
   "cell_type": "code",
   "execution_count": 6,
   "id": "03071e34",
   "metadata": {},
   "outputs": [
    {
     "name": "stdout",
     "output_type": "stream",
     "text": [
      " * sqlite:///chinook.db\n",
      "Done.\n"
     ]
    },
    {
     "data": {
      "text/html": [
       "<table>\n",
       "    <thead>\n",
       "        <tr>\n",
       "            <th>Title</th>\n",
       "            <th>Name</th>\n",
       "        </tr>\n",
       "    </thead>\n",
       "    <tbody>\n",
       "        <tr>\n",
       "            <td>For Those About To Rock We Salute You</td>\n",
       "            <td>AC/DC</td>\n",
       "        </tr>\n",
       "        <tr>\n",
       "            <td>Balls to the Wall</td>\n",
       "            <td>Accept</td>\n",
       "        </tr>\n",
       "        <tr>\n",
       "            <td>Restless and Wild</td>\n",
       "            <td>Accept</td>\n",
       "        </tr>\n",
       "        <tr>\n",
       "            <td>Let There Be Rock</td>\n",
       "            <td>AC/DC</td>\n",
       "        </tr>\n",
       "        <tr>\n",
       "            <td>Big Ones</td>\n",
       "            <td>Aerosmith</td>\n",
       "        </tr>\n",
       "        <tr>\n",
       "            <td>Jagged Little Pill</td>\n",
       "            <td>Alanis Morissette</td>\n",
       "        </tr>\n",
       "        <tr>\n",
       "            <td>Facelift</td>\n",
       "            <td>Alice In Chains</td>\n",
       "        </tr>\n",
       "        <tr>\n",
       "            <td>Warner 25 Anos</td>\n",
       "            <td>Antônio Carlos Jobim</td>\n",
       "        </tr>\n",
       "        <tr>\n",
       "            <td>Plays Metallica By Four Cellos</td>\n",
       "            <td>Apocalyptica</td>\n",
       "        </tr>\n",
       "        <tr>\n",
       "            <td>Audioslave</td>\n",
       "            <td>Audioslave</td>\n",
       "        </tr>\n",
       "    </tbody>\n",
       "</table>"
      ],
      "text/plain": [
       "[('For Those About To Rock We Salute You', 'AC/DC'),\n",
       " ('Balls to the Wall', 'Accept'),\n",
       " ('Restless and Wild', 'Accept'),\n",
       " ('Let There Be Rock', 'AC/DC'),\n",
       " ('Big Ones', 'Aerosmith'),\n",
       " ('Jagged Little Pill', 'Alanis Morissette'),\n",
       " ('Facelift', 'Alice In Chains'),\n",
       " ('Warner 25 Anos', 'Antônio Carlos Jobim'),\n",
       " ('Plays Metallica By Four Cellos', 'Apocalyptica'),\n",
       " ('Audioslave', 'Audioslave')]"
      ]
     },
     "execution_count": 6,
     "metadata": {},
     "output_type": "execute_result"
    }
   ],
   "source": [
    "%%sql\n",
    "\n",
    "SELECT albums.Title, artists.Name\n",
    "FROM albums, artists\n",
    "WHERE artists.Artistid = albums.Artistid\n",
    "LIMIT 10; -- Remove this line to see the full result "
   ]
  },
  {
   "cell_type": "markdown",
   "id": "761eb48c",
   "metadata": {},
   "source": [
    "Unlike before, the returned data are aligned perfectly between both tables. We were able to get all albums and the corresponding artists."
   ]
  },
  {
   "cell_type": "markdown",
   "id": "6d8d9bdd",
   "metadata": {},
   "source": [
    "<div align=\"center\" style=\" font-size: 80%; text-align: center; margin: 0 auto\">\n",
    "<img src=\"https://raw.githubusercontent.com/Explore-AI/Pictures/master/ExploreAI_logos/EAI_Blue_Dark.png\"  style=\"width:200px\";/>\n",
    "</div>"
   ]
  },
  {
   "cell_type": "code",
   "execution_count": 13,
   "id": "583e8535",
   "metadata": {},
   "outputs": [
    {
     "name": "stdout",
     "output_type": "stream",
     "text": [
      " * sqlite:///chinook.db\n",
      "Done.\n"
     ]
    },
    {
     "data": {
      "text/html": [
       "<table>\n",
       "    <thead>\n",
       "        <tr>\n",
       "            <th>TrackId</th>\n",
       "            <th>Name</th>\n",
       "            <th>AlbumId</th>\n",
       "            <th>MediaTypeId</th>\n",
       "            <th>GenreId</th>\n",
       "            <th>Composer</th>\n",
       "            <th>Milliseconds</th>\n",
       "            <th>Bytes</th>\n",
       "            <th>UnitPrice</th>\n",
       "        </tr>\n",
       "    </thead>\n",
       "    <tbody>\n",
       "        <tr>\n",
       "            <td>24</td>\n",
       "            <td>Love In An Elevator</td>\n",
       "            <td>5</td>\n",
       "            <td>1</td>\n",
       "            <td>1</td>\n",
       "            <td>Steven Tyler, Joe Perry</td>\n",
       "            <td>321828</td>\n",
       "            <td>10552051</td>\n",
       "            <td>0.99</td>\n",
       "        </tr>\n",
       "        <tr>\n",
       "            <td>56</td>\n",
       "            <td>Love, Hate, Love</td>\n",
       "            <td>7</td>\n",
       "            <td>1</td>\n",
       "            <td>1</td>\n",
       "            <td>Jerry Cantrell, Layne Staley</td>\n",
       "            <td>387134</td>\n",
       "            <td>12575396</td>\n",
       "            <td>0.99</td>\n",
       "        </tr>\n",
       "        <tr>\n",
       "            <td>195</td>\n",
       "            <td>Let Me Love You Baby</td>\n",
       "            <td>20</td>\n",
       "            <td>1</td>\n",
       "            <td>6</td>\n",
       "            <td>Willie Dixon</td>\n",
       "            <td>175386</td>\n",
       "            <td>5716994</td>\n",
       "            <td>0.99</td>\n",
       "        </tr>\n",
       "        <tr>\n",
       "            <td>335</td>\n",
       "            <td>My Love</td>\n",
       "            <td>29</td>\n",
       "            <td>1</td>\n",
       "            <td>9</td>\n",
       "            <td>Jauperi/Zeu Góes</td>\n",
       "            <td>203493</td>\n",
       "            <td>6772813</td>\n",
       "            <td>0.99</td>\n",
       "        </tr>\n",
       "        <tr>\n",
       "            <td>341</td>\n",
       "            <td>The Girl I Love She Got Long Black Wavy Hair</td>\n",
       "            <td>30</td>\n",
       "            <td>1</td>\n",
       "            <td>1</td>\n",
       "            <td>Jimmy Page/John Bonham/John Estes/John Paul Jones/Robert Plant</td>\n",
       "            <td>183327</td>\n",
       "            <td>5995686</td>\n",
       "            <td>0.99</td>\n",
       "        </tr>\n",
       "        <tr>\n",
       "            <td>345</td>\n",
       "            <td>Whole Lotta Love</td>\n",
       "            <td>30</td>\n",
       "            <td>1</td>\n",
       "            <td>1</td>\n",
       "            <td>Jimmy Page/John Bonham/John Paul Jones/Robert Plant/Willie Dixon</td>\n",
       "            <td>373394</td>\n",
       "            <td>12258175</td>\n",
       "            <td>0.99</td>\n",
       "        </tr>\n",
       "        <tr>\n",
       "            <td>413</td>\n",
       "            <td>Loverman</td>\n",
       "            <td>35</td>\n",
       "            <td>1</td>\n",
       "            <td>3</td>\n",
       "            <td>Cave</td>\n",
       "            <td>472764</td>\n",
       "            <td>15446975</td>\n",
       "            <td>0.99</td>\n",
       "        </tr>\n",
       "        <tr>\n",
       "            <td>440</td>\n",
       "            <td>Love Gun</td>\n",
       "            <td>37</td>\n",
       "            <td>1</td>\n",
       "            <td>1</td>\n",
       "            <td>Paul Stanley</td>\n",
       "            <td>196257</td>\n",
       "            <td>6424915</td>\n",
       "            <td>0.99</td>\n",
       "        </tr>\n",
       "        <tr>\n",
       "            <td>444</td>\n",
       "            <td>Do You Love Me</td>\n",
       "            <td>37</td>\n",
       "            <td>1</td>\n",
       "            <td>1</td>\n",
       "            <td>Paul Stanley, B. Ezrin, K. Fowley</td>\n",
       "            <td>214987</td>\n",
       "            <td>6976194</td>\n",
       "            <td>0.99</td>\n",
       "        </tr>\n",
       "        <tr>\n",
       "            <td>449</td>\n",
       "            <td>Calling Dr. Love</td>\n",
       "            <td>37</td>\n",
       "            <td>1</td>\n",
       "            <td>1</td>\n",
       "            <td>Gene Simmons</td>\n",
       "            <td>225332</td>\n",
       "            <td>7395034</td>\n",
       "            <td>0.99</td>\n",
       "        </tr>\n",
       "    </tbody>\n",
       "</table>"
      ],
      "text/plain": [
       "[(24, 'Love In An Elevator', 5, 1, 1, 'Steven Tyler, Joe Perry', 321828, 10552051, 0.99),\n",
       " (56, 'Love, Hate, Love', 7, 1, 1, 'Jerry Cantrell, Layne Staley', 387134, 12575396, 0.99),\n",
       " (195, 'Let Me Love You Baby', 20, 1, 6, 'Willie Dixon', 175386, 5716994, 0.99),\n",
       " (335, 'My Love', 29, 1, 9, 'Jauperi/Zeu Góes', 203493, 6772813, 0.99),\n",
       " (341, 'The Girl I Love She Got Long Black Wavy Hair', 30, 1, 1, 'Jimmy Page/John Bonham/John Estes/John Paul Jones/Robert Plant', 183327, 5995686, 0.99),\n",
       " (345, 'Whole Lotta Love', 30, 1, 1, 'Jimmy Page/John Bonham/John Paul Jones/Robert Plant/Willie Dixon', 373394, 12258175, 0.99),\n",
       " (413, 'Loverman', 35, 1, 3, 'Cave', 472764, 15446975, 0.99),\n",
       " (440, 'Love Gun', 37, 1, 1, 'Paul Stanley', 196257, 6424915, 0.99),\n",
       " (444, 'Do You Love Me', 37, 1, 1, 'Paul Stanley, B. Ezrin, K. Fowley', 214987, 6976194, 0.99),\n",
       " (449, 'Calling Dr. Love', 37, 1, 1, 'Gene Simmons', 225332, 7395034, 0.99)]"
      ]
     },
     "execution_count": 13,
     "metadata": {},
     "output_type": "execute_result"
    }
   ],
   "source": [
    "#Write a query that will return all the columns for the tracks that contain the word love.\n",
    "\n",
    "#Limit this to the first 10 results.\n",
    "%%sql \n",
    "\n",
    "SELECT \n",
    "    * \n",
    "FROM \n",
    "    tracks AS t\n",
    "WHERE \n",
    "    t.Name LIKE \"%love%\"\n",
    "LIMIT 10;"
   ]
  },
  {
   "cell_type": "code",
   "execution_count": 14,
   "id": "3d968a2b",
   "metadata": {},
   "outputs": [
    {
     "name": "stdout",
     "output_type": "stream",
     "text": [
      " * sqlite:///chinook.db\n",
      "Done.\n"
     ]
    },
    {
     "data": {
      "text/html": [
       "<table>\n",
       "    <thead>\n",
       "        <tr>\n",
       "            <th>CustomerId</th>\n",
       "            <th>FirstName</th>\n",
       "            <th>LastName</th>\n",
       "            <th>Company</th>\n",
       "            <th>Address</th>\n",
       "            <th>City</th>\n",
       "            <th>State</th>\n",
       "            <th>Country</th>\n",
       "            <th>PostalCode</th>\n",
       "            <th>Phone</th>\n",
       "            <th>Fax</th>\n",
       "            <th>Email</th>\n",
       "            <th>SupportRepId</th>\n",
       "        </tr>\n",
       "    </thead>\n",
       "    <tbody>\n",
       "        <tr>\n",
       "            <td>8</td>\n",
       "            <td>Daan</td>\n",
       "            <td>Peeters</td>\n",
       "            <td>None</td>\n",
       "            <td>Grétrystraat 63</td>\n",
       "            <td>Brussels</td>\n",
       "            <td>None</td>\n",
       "            <td>Belgium</td>\n",
       "            <td>1000</td>\n",
       "            <td>+32 02 219 03 03</td>\n",
       "            <td>None</td>\n",
       "            <td>daan_peeters@apple.be</td>\n",
       "            <td>4</td>\n",
       "        </tr>\n",
       "        <tr>\n",
       "            <td>20</td>\n",
       "            <td>Dan</td>\n",
       "            <td>Miller</td>\n",
       "            <td>None</td>\n",
       "            <td>541 Del Medio Avenue</td>\n",
       "            <td>Mountain View</td>\n",
       "            <td>CA</td>\n",
       "            <td>USA</td>\n",
       "            <td>94040-111</td>\n",
       "            <td>+1 (650) 644-3358</td>\n",
       "            <td>None</td>\n",
       "            <td>dmiller@comcast.com</td>\n",
       "            <td>4</td>\n",
       "        </tr>\n",
       "        <tr>\n",
       "            <td>40</td>\n",
       "            <td>Dominique</td>\n",
       "            <td>Lefebvre</td>\n",
       "            <td>None</td>\n",
       "            <td>8, Rue Hanovre</td>\n",
       "            <td>Paris</td>\n",
       "            <td>None</td>\n",
       "            <td>France</td>\n",
       "            <td>75002</td>\n",
       "            <td>+33 01 47 42 71 71</td>\n",
       "            <td>None</td>\n",
       "            <td>dominiquelefebvre@gmail.com</td>\n",
       "            <td>4</td>\n",
       "        </tr>\n",
       "        <tr>\n",
       "            <td>56</td>\n",
       "            <td>Diego</td>\n",
       "            <td>Gutiérrez</td>\n",
       "            <td>None</td>\n",
       "            <td>307 Macacha Güemes</td>\n",
       "            <td>Buenos Aires</td>\n",
       "            <td>None</td>\n",
       "            <td>Argentina</td>\n",
       "            <td>1106</td>\n",
       "            <td>+54 (0)11 4311 4333</td>\n",
       "            <td>None</td>\n",
       "            <td>diego.gutierrez@yahoo.ar</td>\n",
       "            <td>4</td>\n",
       "        </tr>\n",
       "    </tbody>\n",
       "</table>"
      ],
      "text/plain": [
       "[(8, 'Daan', 'Peeters', None, 'Grétrystraat 63', 'Brussels', None, 'Belgium', '1000', '+32 02 219 03 03', None, 'daan_peeters@apple.be', 4),\n",
       " (20, 'Dan', 'Miller', None, '541 Del Medio Avenue', 'Mountain View', 'CA', 'USA', '94040-111', '+1 (650) 644-3358', None, 'dmiller@comcast.com', 4),\n",
       " (40, 'Dominique', 'Lefebvre', None, '8, Rue Hanovre', 'Paris', None, 'France', '75002', '+33 01 47 42 71 71', None, 'dominiquelefebvre@gmail.com', 4),\n",
       " (56, 'Diego', 'Gutiérrez', None, '307 Macacha Güemes', 'Buenos Aires', None, 'Argentina', '1106', '+54 (0)11 4311 4333', None, 'diego.gutierrez@yahoo.ar', 4)]"
      ]
     },
     "execution_count": 14,
     "metadata": {},
     "output_type": "execute_result"
    }
   ],
   "source": [
    "%%sql\n",
    "\n",
    "SELECT \n",
    "    *\n",
    "FROM \n",
    "    customers AS c\n",
    "WHERE \n",
    "    c.FirstName LIKE \"D%\";"
   ]
  },
  {
   "cell_type": "code",
   "execution_count": 15,
   "id": "0b567ee9",
   "metadata": {},
   "outputs": [
    {
     "name": "stdout",
     "output_type": "stream",
     "text": [
      " * sqlite:///chinook.db\n",
      "Done.\n"
     ]
    },
    {
     "data": {
      "text/html": [
       "<table>\n",
       "    <thead>\n",
       "        <tr>\n",
       "            <th>CustomerId</th>\n",
       "            <th>FirstName</th>\n",
       "            <th>LastName</th>\n",
       "            <th>Company</th>\n",
       "            <th>Address</th>\n",
       "            <th>City</th>\n",
       "            <th>State</th>\n",
       "            <th>Country</th>\n",
       "            <th>PostalCode</th>\n",
       "            <th>Phone</th>\n",
       "            <th>Fax</th>\n",
       "            <th>Email</th>\n",
       "            <th>SupportRepId</th>\n",
       "        </tr>\n",
       "    </thead>\n",
       "    <tbody>\n",
       "        <tr>\n",
       "            <td>3</td>\n",
       "            <td>François</td>\n",
       "            <td>Tremblay</td>\n",
       "            <td>None</td>\n",
       "            <td>1498 rue Bélanger</td>\n",
       "            <td>Montréal</td>\n",
       "            <td>QC</td>\n",
       "            <td>Canada</td>\n",
       "            <td>H2G 1A7</td>\n",
       "            <td>+1 (514) 721-4711</td>\n",
       "            <td>None</td>\n",
       "            <td>ftremblay@gmail.com</td>\n",
       "            <td>3</td>\n",
       "        </tr>\n",
       "        <tr>\n",
       "            <td>5</td>\n",
       "            <td>František</td>\n",
       "            <td>Wichterlová</td>\n",
       "            <td>JetBrains s.r.o.</td>\n",
       "            <td>Klanova 9/506</td>\n",
       "            <td>Prague</td>\n",
       "            <td>None</td>\n",
       "            <td>Czech Republic</td>\n",
       "            <td>14700</td>\n",
       "            <td>+420 2 4172 5555</td>\n",
       "            <td>+420 2 4172 5555</td>\n",
       "            <td>frantisekw@jetbrains.com</td>\n",
       "            <td>4</td>\n",
       "        </tr>\n",
       "        <tr>\n",
       "            <td>6</td>\n",
       "            <td>Helena</td>\n",
       "            <td>Holý</td>\n",
       "            <td>None</td>\n",
       "            <td>Rilská 3174/6</td>\n",
       "            <td>Prague</td>\n",
       "            <td>None</td>\n",
       "            <td>Czech Republic</td>\n",
       "            <td>14300</td>\n",
       "            <td>+420 2 4177 0449</td>\n",
       "            <td>None</td>\n",
       "            <td>hholy@gmail.com</td>\n",
       "            <td>5</td>\n",
       "        </tr>\n",
       "        <tr>\n",
       "            <td>16</td>\n",
       "            <td>Frank</td>\n",
       "            <td>Harris</td>\n",
       "            <td>Google Inc.</td>\n",
       "            <td>1600 Amphitheatre Parkway</td>\n",
       "            <td>Mountain View</td>\n",
       "            <td>CA</td>\n",
       "            <td>USA</td>\n",
       "            <td>94043-1351</td>\n",
       "            <td>+1 (650) 253-0000</td>\n",
       "            <td>+1 (650) 253-0000</td>\n",
       "            <td>fharris@google.com</td>\n",
       "            <td>4</td>\n",
       "        </tr>\n",
       "        <tr>\n",
       "            <td>17</td>\n",
       "            <td>Jack</td>\n",
       "            <td>Smith</td>\n",
       "            <td>Microsoft Corporation</td>\n",
       "            <td>1 Microsoft Way</td>\n",
       "            <td>Redmond</td>\n",
       "            <td>WA</td>\n",
       "            <td>USA</td>\n",
       "            <td>98052-8300</td>\n",
       "            <td>+1 (425) 882-8080</td>\n",
       "            <td>+1 (425) 882-8081</td>\n",
       "            <td>jacksmith@microsoft.com</td>\n",
       "            <td>5</td>\n",
       "        </tr>\n",
       "    </tbody>\n",
       "</table>"
      ],
      "text/plain": [
       "[(3, 'François', 'Tremblay', None, '1498 rue Bélanger', 'Montréal', 'QC', 'Canada', 'H2G 1A7', '+1 (514) 721-4711', None, 'ftremblay@gmail.com', 3),\n",
       " (5, 'František', 'Wichterlová', 'JetBrains s.r.o.', 'Klanova 9/506', 'Prague', None, 'Czech Republic', '14700', '+420 2 4172 5555', '+420 2 4172 5555', 'frantisekw@jetbrains.com', 4),\n",
       " (6, 'Helena', 'Holý', None, 'Rilská 3174/6', 'Prague', None, 'Czech Republic', '14300', '+420 2 4177 0449', None, 'hholy@gmail.com', 5),\n",
       " (16, 'Frank', 'Harris', 'Google Inc.', '1600 Amphitheatre Parkway', 'Mountain View', 'CA', 'USA', '94043-1351', '+1 (650) 253-0000', '+1 (650) 253-0000', 'fharris@google.com', 4),\n",
       " (17, 'Jack', 'Smith', 'Microsoft Corporation', '1 Microsoft Way', 'Redmond', 'WA', 'USA', '98052-8300', '+1 (425) 882-8080', '+1 (425) 882-8081', 'jacksmith@microsoft.com', 5)]"
      ]
     },
     "execution_count": 15,
     "metadata": {},
     "output_type": "execute_result"
    }
   ],
   "source": [
    "#Formulate a query that returns customers with email addresses that have domains that end in three letters.\n",
    "\n",
    "%%sql\n",
    "\n",
    "SELECT *\n",
    "FROM customers AS c\n",
    "WHERE c.Email LIKE \"%.___\"\n",
    "LIMIT 5;"
   ]
  },
  {
   "cell_type": "code",
   "execution_count": 16,
   "id": "8038f2fc",
   "metadata": {},
   "outputs": [
    {
     "name": "stdout",
     "output_type": "stream",
     "text": [
      " * sqlite:///chinook.db\n",
      "Done.\n"
     ]
    },
    {
     "data": {
      "text/html": [
       "<table>\n",
       "    <thead>\n",
       "        <tr>\n",
       "            <th>CustomerId</th>\n",
       "            <th>FirstName</th>\n",
       "            <th>LastName</th>\n",
       "            <th>Company</th>\n",
       "            <th>Address</th>\n",
       "            <th>City</th>\n",
       "            <th>State</th>\n",
       "            <th>Country</th>\n",
       "            <th>PostalCode</th>\n",
       "            <th>Phone</th>\n",
       "            <th>Fax</th>\n",
       "            <th>Email</th>\n",
       "            <th>SupportRepId</th>\n",
       "        </tr>\n",
       "    </thead>\n",
       "    <tbody>\n",
       "        <tr>\n",
       "            <td>52</td>\n",
       "            <td>Emma</td>\n",
       "            <td>Jones</td>\n",
       "            <td>None</td>\n",
       "            <td>202 Hoxton Street</td>\n",
       "            <td>London</td>\n",
       "            <td>None</td>\n",
       "            <td>United Kingdom</td>\n",
       "            <td>N1 5LH</td>\n",
       "            <td>+44 020 7707 0707</td>\n",
       "            <td>None</td>\n",
       "            <td>emma_jones@hotmail.com</td>\n",
       "            <td>3</td>\n",
       "        </tr>\n",
       "        <tr>\n",
       "            <td>53</td>\n",
       "            <td>Phil</td>\n",
       "            <td>Hughes</td>\n",
       "            <td>None</td>\n",
       "            <td>113 Lupus St</td>\n",
       "            <td>London</td>\n",
       "            <td>None</td>\n",
       "            <td>United Kingdom</td>\n",
       "            <td>SW1V 3EN</td>\n",
       "            <td>+44 020 7976 5722</td>\n",
       "            <td>None</td>\n",
       "            <td>phil.hughes@gmail.com</td>\n",
       "            <td>3</td>\n",
       "        </tr>\n",
       "        <tr>\n",
       "            <td>54</td>\n",
       "            <td>Steve</td>\n",
       "            <td>Murray</td>\n",
       "            <td>None</td>\n",
       "            <td>110 Raeburn Pl</td>\n",
       "            <td>Edinburgh </td>\n",
       "            <td>None</td>\n",
       "            <td>United Kingdom</td>\n",
       "            <td>EH4 1HH</td>\n",
       "            <td>+44 0131 315 3300</td>\n",
       "            <td>None</td>\n",
       "            <td>steve.murray@yahoo.uk</td>\n",
       "            <td>5</td>\n",
       "        </tr>\n",
       "    </tbody>\n",
       "</table>"
      ],
      "text/plain": [
       "[(52, 'Emma', 'Jones', None, '202 Hoxton Street', 'London', None, 'United Kingdom', 'N1 5LH', '+44 020 7707 0707', None, 'emma_jones@hotmail.com', 3),\n",
       " (53, 'Phil', 'Hughes', None, '113 Lupus St', 'London', None, 'United Kingdom', 'SW1V 3EN', '+44 020 7976 5722', None, 'phil.hughes@gmail.com', 3),\n",
       " (54, 'Steve', 'Murray', None, '110 Raeburn Pl', 'Edinburgh ', None, 'United Kingdom', 'EH4 1HH', '+44 0131 315 3300', None, 'steve.murray@yahoo.uk', 5)]"
      ]
     },
     "execution_count": 16,
     "metadata": {},
     "output_type": "execute_result"
    }
   ],
   "source": [
    "#Write a query that shows all customers who live in the UK.\n",
    "\n",
    "%%sql\n",
    "\n",
    "SELECT \n",
    "    *\n",
    "FROM \n",
    "    customers\n",
    "WHERE \n",
    "    LOWER(country) = \"united kingdom\";"
   ]
  },
  {
   "cell_type": "code",
   "execution_count": 24,
   "id": "567850dc",
   "metadata": {},
   "outputs": [
    {
     "name": "stdout",
     "output_type": "stream",
     "text": [
      " * sqlite:///chinook.db\n",
      "Done.\n"
     ]
    },
    {
     "data": {
      "text/html": [
       "<table>\n",
       "    <thead>\n",
       "        <tr>\n",
       "            <th>Full Name</th>\n",
       "        </tr>\n",
       "    </thead>\n",
       "    <tbody>\n",
       "        <tr>\n",
       "            <td>Andrew Adams</td>\n",
       "        </tr>\n",
       "        <tr>\n",
       "            <td>Nancy Edwards</td>\n",
       "        </tr>\n",
       "        <tr>\n",
       "            <td>Jane Peacock</td>\n",
       "        </tr>\n",
       "        <tr>\n",
       "            <td>Margaret Park</td>\n",
       "        </tr>\n",
       "        <tr>\n",
       "            <td>Steve Johnson</td>\n",
       "        </tr>\n",
       "        <tr>\n",
       "            <td>Michael Mitchell</td>\n",
       "        </tr>\n",
       "        <tr>\n",
       "            <td>Robert King</td>\n",
       "        </tr>\n",
       "        <tr>\n",
       "            <td>Laura Callahan</td>\n",
       "        </tr>\n",
       "    </tbody>\n",
       "</table>"
      ],
      "text/plain": [
       "[('Andrew Adams',),\n",
       " ('Nancy Edwards',),\n",
       " ('Jane Peacock',),\n",
       " ('Margaret Park',),\n",
       " ('Steve Johnson',),\n",
       " ('Michael Mitchell',),\n",
       " ('Robert King',),\n",
       " ('Laura Callahan',)]"
      ]
     },
     "execution_count": 24,
     "metadata": {},
     "output_type": "execute_result"
    }
   ],
   "source": [
    "#Write a query that shows employee first and last names in the same column.\n",
    "\n",
    "%%sql\n",
    "\n",
    "SELECT FirstName || \" \" || LastName AS \"Full Name\"\n",
    "FROM employees;"
   ]
  },
  {
   "cell_type": "code",
   "execution_count": 25,
   "id": "86144f60",
   "metadata": {},
   "outputs": [
    {
     "name": "stdout",
     "output_type": "stream",
     "text": [
      " * sqlite:///chinook.db\n",
      "(sqlite3.OperationalError) no such function: CONCAT\n",
      "[SQL: SELECT \n",
      "    CONCAT(FirstName, ' ', LastName) AS FullName \n",
      "FROM \n",
      "    employees;]\n",
      "(Background on this error at: http://sqlalche.me/e/e3q8)\n"
     ]
    }
   ],
   "source": [
    "%%sql\n",
    "\n",
    "SELECT \n",
    "    CONCAT(FirstName, ' ', LastName) AS FullName \n",
    "FROM \n",
    "    employees;"
   ]
  },
  {
   "cell_type": "code",
   "execution_count": 18,
   "id": "da2097e5",
   "metadata": {},
   "outputs": [
    {
     "name": "stdout",
     "output_type": "stream",
     "text": [
      " * sqlite:///chinook.db\n",
      "Done.\n"
     ]
    },
    {
     "data": {
      "text/html": [
       "<table>\n",
       "    <thead>\n",
       "        <tr>\n",
       "            <th>cid</th>\n",
       "            <th>name</th>\n",
       "            <th>type</th>\n",
       "            <th>notnull</th>\n",
       "            <th>dflt_value</th>\n",
       "            <th>pk</th>\n",
       "        </tr>\n",
       "    </thead>\n",
       "    <tbody>\n",
       "        <tr>\n",
       "            <td>0</td>\n",
       "            <td>CustomerId</td>\n",
       "            <td>INTEGER</td>\n",
       "            <td>1</td>\n",
       "            <td>None</td>\n",
       "            <td>1</td>\n",
       "        </tr>\n",
       "        <tr>\n",
       "            <td>1</td>\n",
       "            <td>FirstName</td>\n",
       "            <td>NVARCHAR(40)</td>\n",
       "            <td>1</td>\n",
       "            <td>None</td>\n",
       "            <td>0</td>\n",
       "        </tr>\n",
       "        <tr>\n",
       "            <td>2</td>\n",
       "            <td>LastName</td>\n",
       "            <td>NVARCHAR(20)</td>\n",
       "            <td>1</td>\n",
       "            <td>None</td>\n",
       "            <td>0</td>\n",
       "        </tr>\n",
       "        <tr>\n",
       "            <td>3</td>\n",
       "            <td>Company</td>\n",
       "            <td>NVARCHAR(80)</td>\n",
       "            <td>0</td>\n",
       "            <td>None</td>\n",
       "            <td>0</td>\n",
       "        </tr>\n",
       "        <tr>\n",
       "            <td>4</td>\n",
       "            <td>Address</td>\n",
       "            <td>NVARCHAR(70)</td>\n",
       "            <td>0</td>\n",
       "            <td>None</td>\n",
       "            <td>0</td>\n",
       "        </tr>\n",
       "        <tr>\n",
       "            <td>5</td>\n",
       "            <td>City</td>\n",
       "            <td>NVARCHAR(40)</td>\n",
       "            <td>0</td>\n",
       "            <td>None</td>\n",
       "            <td>0</td>\n",
       "        </tr>\n",
       "        <tr>\n",
       "            <td>6</td>\n",
       "            <td>State</td>\n",
       "            <td>NVARCHAR(40)</td>\n",
       "            <td>0</td>\n",
       "            <td>None</td>\n",
       "            <td>0</td>\n",
       "        </tr>\n",
       "        <tr>\n",
       "            <td>7</td>\n",
       "            <td>Country</td>\n",
       "            <td>NVARCHAR(40)</td>\n",
       "            <td>0</td>\n",
       "            <td>None</td>\n",
       "            <td>0</td>\n",
       "        </tr>\n",
       "        <tr>\n",
       "            <td>8</td>\n",
       "            <td>PostalCode</td>\n",
       "            <td>NVARCHAR(10)</td>\n",
       "            <td>0</td>\n",
       "            <td>None</td>\n",
       "            <td>0</td>\n",
       "        </tr>\n",
       "        <tr>\n",
       "            <td>9</td>\n",
       "            <td>Phone</td>\n",
       "            <td>NVARCHAR(24)</td>\n",
       "            <td>0</td>\n",
       "            <td>None</td>\n",
       "            <td>0</td>\n",
       "        </tr>\n",
       "        <tr>\n",
       "            <td>10</td>\n",
       "            <td>Fax</td>\n",
       "            <td>NVARCHAR(24)</td>\n",
       "            <td>0</td>\n",
       "            <td>None</td>\n",
       "            <td>0</td>\n",
       "        </tr>\n",
       "        <tr>\n",
       "            <td>11</td>\n",
       "            <td>Email</td>\n",
       "            <td>NVARCHAR(60)</td>\n",
       "            <td>1</td>\n",
       "            <td>None</td>\n",
       "            <td>0</td>\n",
       "        </tr>\n",
       "        <tr>\n",
       "            <td>12</td>\n",
       "            <td>SupportRepId</td>\n",
       "            <td>INTEGER</td>\n",
       "            <td>0</td>\n",
       "            <td>None</td>\n",
       "            <td>0</td>\n",
       "        </tr>\n",
       "    </tbody>\n",
       "</table>"
      ],
      "text/plain": [
       "[(0, 'CustomerId', 'INTEGER', 1, None, 1),\n",
       " (1, 'FirstName', 'NVARCHAR(40)', 1, None, 0),\n",
       " (2, 'LastName', 'NVARCHAR(20)', 1, None, 0),\n",
       " (3, 'Company', 'NVARCHAR(80)', 0, None, 0),\n",
       " (4, 'Address', 'NVARCHAR(70)', 0, None, 0),\n",
       " (5, 'City', 'NVARCHAR(40)', 0, None, 0),\n",
       " (6, 'State', 'NVARCHAR(40)', 0, None, 0),\n",
       " (7, 'Country', 'NVARCHAR(40)', 0, None, 0),\n",
       " (8, 'PostalCode', 'NVARCHAR(10)', 0, None, 0),\n",
       " (9, 'Phone', 'NVARCHAR(24)', 0, None, 0),\n",
       " (10, 'Fax', 'NVARCHAR(24)', 0, None, 0),\n",
       " (11, 'Email', 'NVARCHAR(60)', 1, None, 0),\n",
       " (12, 'SupportRepId', 'INTEGER', 0, None, 0)]"
      ]
     },
     "execution_count": 18,
     "metadata": {},
     "output_type": "execute_result"
    }
   ],
   "source": [
    "%%sql\n",
    "\n",
    "PRAGMA table_info(customers);"
   ]
  },
  {
   "cell_type": "code",
   "execution_count": null,
   "id": "57b480e5",
   "metadata": {},
   "outputs": [],
   "source": [
    "%%sql\n",
    "\n",
    "SELECT \n",
    "    Salary\n",
    "FROM \n",
    "    Employees;"
   ]
  }
 ],
 "metadata": {
  "kernelspec": {
   "display_name": "Python 3 (ipykernel)",
   "language": "python",
   "name": "python3"
  },
  "language_info": {
   "codemirror_mode": {
    "name": "ipython",
    "version": 3
   },
   "file_extension": ".py",
   "mimetype": "text/x-python",
   "name": "python",
   "nbconvert_exporter": "python",
   "pygments_lexer": "ipython3",
   "version": "3.11.5"
  }
 },
 "nbformat": 4,
 "nbformat_minor": 5
}
